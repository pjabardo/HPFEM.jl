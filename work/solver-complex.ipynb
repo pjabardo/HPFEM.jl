{
 "cells": [
  {
   "cell_type": "code",
   "execution_count": null,
   "metadata": {
    "collapsed": false
   },
   "outputs": [],
   "source": [
    "include(\"../src/HPFEM.jl\")"
   ]
  },
  {
   "cell_type": "code",
   "execution_count": null,
   "metadata": {
    "collapsed": false
   },
   "outputs": [],
   "source": [
    "TF = Complex{Float64}\n",
    "λ = one(TF) +im\n",
    "ζ = -1.0 + im*2*one(TF)\n",
    "nel = 15\n",
    "nnodes = nel + 1\n",
    "idir = [1,nnodes]\n",
    "M = 7\n",
    "Q = M+2\n",
    "#b = HPFEM.Lagrange1d(M, TF)\n",
    "b = HPFEM.ModalC01d(M, TF)\n",
    "quad = HPFEM.QuadType(Q, HPFEM.GLJ, TF)\n",
    "bas = HPFEM.Basis1d(b,quad, TF)\n",
    "#bas = HPFEM.SEM1d(M, TF)\n",
    "#bas = HPFEM.Basis1d(M,Q)\n",
    "lmap = HPFEM.locmap(bas)\n",
    "dof = HPFEM.DofMap1d(lmap, nnodes, idir);\n"
   ]
  },
  {
   "cell_type": "code",
   "execution_count": null,
   "metadata": {
    "collapsed": false
   },
   "outputs": [],
   "source": []
  },
  {
   "cell_type": "code",
   "execution_count": null,
   "metadata": {
    "collapsed": false
   },
   "outputs": [],
   "source": [
    "k = 2\n",
    "uexact(x) = ζ*sin(2π*k*x)\n",
    "rhsfun(x) = ζ * sin(2π*k*x) * (λ + (2π*k)^2)\n"
   ]
  },
  {
   "cell_type": "code",
   "execution_count": null,
   "metadata": {
    "collapsed": false
   },
   "outputs": [],
   "source": [
    "uexact(1.7)"
   ]
  },
  {
   "cell_type": "code",
   "execution_count": null,
   "metadata": {
    "collapsed": false
   },
   "outputs": [],
   "source": [
    "a = 1.3\n",
    "b = 6.7\n",
    "nodes = [TF(x) for x in linspace(a, b, nnodes)];"
   ]
  },
  {
   "cell_type": "code",
   "execution_count": null,
   "metadata": {
    "collapsed": false
   },
   "outputs": [],
   "source": [
    "elems = [HPFEM.Element1d(e, nodes[e], nodes[e+1], bas) for e = 1:nel];"
   ]
  },
  {
   "cell_type": "code",
   "execution_count": null,
   "metadata": {
    "collapsed": false
   },
   "outputs": [],
   "source": [
    "solver = HPFEM.CholeskySC(dof, HPFEM.BBMatrix1d, TF);"
   ]
  },
  {
   "cell_type": "raw",
   "metadata": {
    "collapsed": false
   },
   "source": []
  },
  {
   "cell_type": "code",
   "execution_count": null,
   "metadata": {
    "collapsed": false
   },
   "outputs": [],
   "source": [
    "for e = 1:nel\n",
    "    Ae = zeros(TF, M, M)\n",
    "    HPFEM.add_stiff_matrix!(bas, elems[e], Ae)\n",
    "    HPFEM.add_mass_matrix!(bas, elems[e], Ae, λ)\n",
    "    HPFEM.add_local_matrix(solver, e, Ae)\n",
    "end\n"
   ]
  },
  {
   "cell_type": "code",
   "execution_count": null,
   "metadata": {
    "collapsed": false
   },
   "outputs": [],
   "source": []
  },
  {
   "cell_type": "code",
   "execution_count": null,
   "metadata": {
    "collapsed": false
   },
   "outputs": [],
   "source": [
    "Fe = zeros(TF, HPFEM.nmodes(lmap), nel)\n",
    "\n",
    "for e = 1:nel\n",
    "    fe = rhsfun(elems[e].x)\n",
    "    HPFEM.add_rhs!(bas, elems[e], fe, view(Fe, :, e))\n",
    "end\n",
    "\n",
    "# Apply Dirichilet BCs:\n",
    "bnd = HPFEM.bndidx(lmap)\n",
    "Fe[bnd[1],1] = uexact(TF(a));\n",
    "Fe[bnd[2],nel] = uexact(TF(b));"
   ]
  },
  {
   "cell_type": "code",
   "execution_count": null,
   "metadata": {
    "collapsed": false
   },
   "outputs": [],
   "source": [
    "HPFEM.solve!(solver, Fe);"
   ]
  },
  {
   "cell_type": "code",
   "execution_count": null,
   "metadata": {
    "collapsed": false
   },
   "outputs": [],
   "source": [
    "nξ = 101\n",
    "ξ = Complex{Float64}[TF(y) for y in linspace(-1,1,nξ)]\n",
    "ϕ = zeros(TF, nξ, M)\n",
    "for i = 1:M\n",
    "    ϕ[:,i] = HPFEM.basis1d(bas, ξ, i)\n",
    "end\n",
    "\n",
    "Ue = ϕ * Fe;"
   ]
  },
  {
   "cell_type": "code",
   "execution_count": null,
   "metadata": {
    "collapsed": false
   },
   "outputs": [],
   "source": [
    "using PyPlot\n",
    "maxerr = 0.0\n",
    "for e = 1:nel\n",
    "    el = elems[e]\n",
    "    x = (1-ξ)*el.a/2 + (1+ξ)*el.b/2 \n",
    "    uu = uexact(x)\n",
    "    \n",
    "    err = maxabs(uu-Ue[:,e])\n",
    "    if err > maxerr maxerr = err end\n",
    "        \n",
    "    plot(real(x), real(Ue[:,e]), \"r\", x, real(uu), \"b\")\n",
    "    plot(real(x), imag(Ue[:,e]), \"r--\", real(x), imag(uu), \"b--\")\n",
    "end\n",
    "maxerr"
   ]
  },
  {
   "cell_type": "code",
   "execution_count": null,
   "metadata": {
    "collapsed": true
   },
   "outputs": [],
   "source": []
  },
  {
   "cell_type": "code",
   "execution_count": null,
   "metadata": {
    "collapsed": true
   },
   "outputs": [],
   "source": []
  },
  {
   "cell_type": "code",
   "execution_count": null,
   "metadata": {
    "collapsed": true
   },
   "outputs": [],
   "source": []
  }
 ],
 "metadata": {
  "kernelspec": {
   "display_name": "Julia 0.5.0",
   "language": "julia",
   "name": "julia-0.5"
  },
  "language_info": {
   "file_extension": ".jl",
   "mimetype": "application/julia",
   "name": "julia",
   "version": "0.5.0"
  }
 },
 "nbformat": 4,
 "nbformat_minor": 0
}
