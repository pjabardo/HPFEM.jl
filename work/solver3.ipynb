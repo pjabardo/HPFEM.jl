{
 "cells": [
  {
   "cell_type": "code",
   "execution_count": 366,
   "metadata": {
    "collapsed": false
   },
   "outputs": [
    {
     "name": "stderr",
     "output_type": "stream",
     "text": [
      "WARNING: replacing module HPFEM\n"
     ]
    },
    {
     "data": {
      "text/plain": [
       "HPFEM"
      ]
     },
     "execution_count": 366,
     "metadata": {},
     "output_type": "execute_result"
    }
   ],
   "source": [
    "include(\"../src/HPFEM.jl\")"
   ]
  },
  {
   "cell_type": "code",
   "execution_count": 382,
   "metadata": {
    "collapsed": false
   },
   "outputs": [],
   "source": [
    "nel = 2\n",
    "nnodes = nel + 1\n",
    "idir = Int[]#1,nnodes]\n",
    "M = 6\n",
    "Q = M+2\n",
    "bas = HPFEM.Basis1d(M,Q)\n",
    "lmap = HPFEM.locmap(bas)\n",
    "dof = HPFEM.DofMap1d(lmap, nnodes, idir, true);\n"
   ]
  },
  {
   "cell_type": "code",
   "execution_count": 383,
   "metadata": {
    "collapsed": false
   },
   "outputs": [
    {
     "data": {
      "text/plain": [
       "2"
      ]
     },
     "execution_count": 383,
     "metadata": {},
     "output_type": "execute_result"
    }
   ],
   "source": [
    "dof.nb"
   ]
  },
  {
   "cell_type": "code",
   "execution_count": 384,
   "metadata": {
    "collapsed": false
   },
   "outputs": [
    {
     "data": {
      "text/plain": [
       "rhsfun (generic function with 1 method)"
      ]
     },
     "execution_count": 384,
     "metadata": {},
     "output_type": "execute_result"
    }
   ],
   "source": [
    "uexact(x) = sin(x)\n",
    "rhsfun(x) = 2*sin(x)\n"
   ]
  },
  {
   "cell_type": "code",
   "execution_count": 385,
   "metadata": {
    "collapsed": false
   },
   "outputs": [],
   "source": [
    "a = 0.0π\n",
    "b = 2.0π\n",
    "nodes = collect(linspace(a, b, nnodes));"
   ]
  },
  {
   "cell_type": "code",
   "execution_count": 386,
   "metadata": {
    "collapsed": false
   },
   "outputs": [],
   "source": [
    "elems = [HPFEM.Element1d(e, nodes[e], nodes[e+1], bas) for e = 1:nel];"
   ]
  },
  {
   "cell_type": "code",
   "execution_count": 387,
   "metadata": {
    "collapsed": false
   },
   "outputs": [],
   "source": [
    "solver = HPFEM.CholeskySC(dof, HPFEM.BBSymMatrix1d);"
   ]
  },
  {
   "cell_type": "code",
   "execution_count": 388,
   "metadata": {
    "collapsed": false
   },
   "outputs": [],
   "source": [
    "for e = 1:nel\n",
    "    Ae = zeros(M, M)\n",
    "    HPFEM.add_stiff_matrix!(bas, elems[e], Ae)\n",
    "    HPFEM.add_mass_matrix!(bas, elems[e], Ae)\n",
    "    HPFEM.add_local_matrix(solver, e, Ae)\n",
    "end\n"
   ]
  },
  {
   "cell_type": "code",
   "execution_count": 389,
   "metadata": {
    "collapsed": false
   },
   "outputs": [
    {
     "data": {
      "text/plain": [
       "HPFEM.BBSymMatrix{Float64}(2,2,2x2 Array{Float64,2}:\n",
       "  2.00749   -0.173176\n",
       " -0.173176   2.00749 ,#undef)"
      ]
     },
     "execution_count": 389,
     "metadata": {},
     "output_type": "execute_result"
    }
   ],
   "source": [
    "solver.Abb.mat"
   ]
  },
  {
   "cell_type": "code",
   "execution_count": 390,
   "metadata": {
    "collapsed": false
   },
   "outputs": [],
   "source": [
    "Fe = zeros(HPFEM.nmodes(lmap), nel)\n",
    "\n",
    "for e = 1:nel\n",
    "    fe = rhsfun(elems[e].x)\n",
    "    HPFEM.add_rhs!(bas, elems[e], fe, sub(Fe, :, e))\n",
    "end\n",
    "\n",
    "# Apply Dirichilet BCs:\n",
    "#Fe[1,1] = uexact(a);\n",
    "#Fe[2,nel] = uexact(b);"
   ]
  },
  {
   "cell_type": "code",
   "execution_count": 391,
   "metadata": {
    "collapsed": false
   },
   "outputs": [],
   "source": [
    "HPFEM.solve!(solver, Fe);"
   ]
  },
  {
   "cell_type": "code",
   "execution_count": 392,
   "metadata": {
    "collapsed": false
   },
   "outputs": [],
   "source": [
    "nξ = 101\n",
    "ξ = collect(linspace(-1,1,nξ));\n",
    "ϕ = zeros(nξ, M)\n",
    "for i = 1:M\n",
    "    ϕ[:,i] = bas(ξ, i)\n",
    "end\n",
    "\n",
    "Ue = ϕ * Fe;"
   ]
  },
  {
   "cell_type": "code",
   "execution_count": 393,
   "metadata": {
    "collapsed": false
   },
   "outputs": [
    {
     "data": {
      "image/png": "[encoded data removed]",
      "text/plain": [
       "PyPlot.Figure(PyObject <matplotlib.figure.Figure object at 0x7fa65aa80fd0>)"
      ]
     },
     "metadata": {},
     "output_type": "display_data"
    },
    {
     "data": {
      "text/plain": [
       "0.0008780458220415399"
      ]
     },
     "execution_count": 393,
     "metadata": {},
     "output_type": "execute_result"
    }
   ],
   "source": [
    "using PyPlot\n",
    "maxerr = 0.0\n",
    "for e = 1:nel\n",
    "    el = elems[e]\n",
    "    x = (1-ξ)*el.a/2 + (1+ξ)*el.b/2 \n",
    "    uu = uexact(x)\n",
    "    err = maxabs(uu-Ue[:,e])\n",
    "    if err > maxerr maxerr = err end\n",
    "        \n",
    "    plot(x, Ue[:,e], \"r\", x, uu, \"b\")\n",
    "end\n",
    "maxerr"
   ]
  },
  {
   "cell_type": "code",
   "execution_count": null,
   "metadata": {
    "collapsed": true
   },
   "outputs": [],
   "source": []
  }
 ],
 "metadata": {
  "kernelspec": {
   "display_name": "Julia 0.4.5",
   "language": "julia",
   "name": "julia-0.4"
  },
  "language_info": {
   "file_extension": ".jl",
   "mimetype": "application/julia",
   "name": "julia",
   "version": "0.4.5"
  }
 },
 "nbformat": 4,
 "nbformat_minor": 0
}
