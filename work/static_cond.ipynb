{
 "cells": [
  {
   "cell_type": "markdown",
   "metadata": {},
   "source": [
    "# Use of static condensation to solve a linear system\n",
    "\n",
    "When using the spectral element method (SEM) to solve partial differential equations (PDE), it is common for the basis function to have modes with support on boundaries (of elements) and modes with support only inside an element. This structure can be exploited when solving the linear system.\n",
    "\n",
    "Here, as an exercise for implementing the solver using this technique, we will use it to solve a symmetric linear system that is decomposed as \n",
    "\n",
    "$$\n",
    "A\\cdot x  = \\left[ \n",
    "\\begin{matrix} \n",
    "A_{bb} & A_{bi} \\\\\n",
    "A_{ib} & A_{ii} \\\\\n",
    "\\end{matrix}\\right] \\cdot \\left\\{\n",
    "\\begin{matrix} x_b \\\\ x_i \\\\ \n",
    "\\end{matrix}\\right\\} = \n",
    "\\left\\{\\begin{matrix} f_b \\\\ f_i \\\\\\end{matrix}\\right\\} \n",
    "$$\n",
    "\n",
    "where $A_{bb}$, $A_{bi}$, $A_{ib}$ and $A_{ii}$ are submatrices.\n",
    "\n",
    "The second row can be solved for $x_i$:\n",
    "\n",
    "$$\n",
    "x_i = A_{ii}^{-1} f_i - A_{ii}^{-1} A_{ib} x_b\n",
    "$$\n",
    "\n",
    "Substituting this on the first row:\n",
    "\n",
    "$$\n",
    "\\left( A_{bb} - A_{bi}A_{ii}^{-1} A_{ib} \\right) x_b = f_b - A_{bi}A_{ii}^{-1} f_i\n",
    "$$\n",
    "\n",
    "This can be rewritten as\n",
    "\n",
    "$$\n",
    "A'_{bb} \\cdot x_b = f'_b\n",
    "$$\n",
    "\n",
    "where $A'_{bb} = A_{bb} - A_{bi}A_{ii}^{-1} A_{ib}$ and \n",
    "$f'_b = f_b - A_{bi}A_{ii}^{-1} f_i$.\n",
    "\n",
    "With these transormations, if the linear system is symmetric and positive and definite,  to solve a linear system, we need to use the following steps:\n",
    " \n",
    " * Compute $A_{ii}^{-1}$ (in reality do a Cholesky decomposition).\n",
    " * Compute $A_{bi} A_{ii}^{-1}$\n",
    " * Compute the Choleksy factorization of $A'_{bb} = A_{bb} - A_{bi}A_{ii}^{-1} \\cdot A_{ib}$\n",
    " \n",
    "To solve the linear system given a RHS (f):\n",
    "\n",
    " * Compute $f'_b = f_b - A_{bi}A_{ii}^{-1} f_i$.\n",
    " * Using the Cholesky factorization of $A'_{bb}$ compute $x_b$.\n",
    " * Now, using the Choleksy factorization of $A_{ii}$ compute $x_i = A_{ii}^{-1} f_i - A_{ii}^{-1} A_{ib} x_b$\n"
   ]
  },
  {
   "cell_type": "markdown",
   "metadata": {},
   "source": [
    "## A function to generate random symmetric matrices"
   ]
  },
  {
   "cell_type": "code",
   "execution_count": null,
   "metadata": {
    "collapsed": false
   },
   "outputs": [],
   "source": [
    "\n",
    "function random_matrix(n, symm=true, diag=4.0)\n",
    "    A = randn(n,n)\n",
    "    for i = 1:n\n",
    "        A[i,i] += diag\n",
    "    end\n",
    "    \n",
    "    if symm\n",
    "        A = (A + A') / 2\n",
    "    end\n",
    "    \n",
    "    return A\n",
    "end"
   ]
  },
  {
   "cell_type": "markdown",
   "metadata": {},
   "source": [
    "### Creating the matrix"
   ]
  },
  {
   "cell_type": "code",
   "execution_count": null,
   "metadata": {
    "collapsed": false
   },
   "outputs": [],
   "source": [
    "N = 12\n",
    "nb = 6\n",
    "ni = N - nb"
   ]
  },
  {
   "cell_type": "code",
   "execution_count": null,
   "metadata": {
    "collapsed": false
   },
   "outputs": [],
   "source": [
    "A = [\n",
    " 3.73295   0.351419  -0.534708   0.301579   0.558047;\n",
    "  0.351419  6.48719    0.31895    0.198893   0.400289;\n",
    " -0.534708  0.31895    4.81739    0.309232  -0.103873;\n",
    "  0.301579  0.198893   0.309232   5.411     -0.37619 ;\n",
    "    0.558047  0.400289  -0.103873  -0.37619    3.44621 ]\n",
    "\n",
    "\n",
    "A = random_matrix(N);\n"
   ]
  },
  {
   "cell_type": "markdown",
   "metadata": {},
   "source": [
    "### Obtaining the sub-matrices"
   ]
  },
  {
   "cell_type": "code",
   "execution_count": null,
   "metadata": {
    "collapsed": false
   },
   "outputs": [],
   "source": [
    "Abb = A[1:nb, 1:nb];"
   ]
  },
  {
   "cell_type": "code",
   "execution_count": null,
   "metadata": {
    "collapsed": true
   },
   "outputs": [],
   "source": [
    "Abi = A[1:nb, (nb+1):N];"
   ]
  },
  {
   "cell_type": "code",
   "execution_count": null,
   "metadata": {
    "collapsed": true
   },
   "outputs": [],
   "source": [
    "Aib = A[(nb+1):N, 1:nb];"
   ]
  },
  {
   "cell_type": "code",
   "execution_count": null,
   "metadata": {
    "collapsed": false
   },
   "outputs": [],
   "source": [
    "Aii = A[(nb+1):N, (nb+1):N];"
   ]
  },
  {
   "cell_type": "markdown",
   "metadata": {},
   "source": [
    "### Loading the appropriate modules"
   ]
  },
  {
   "cell_type": "code",
   "execution_count": null,
   "metadata": {
    "collapsed": false
   },
   "outputs": [],
   "source": [
    "using Base.LinAlg.BLAS.gemm!\n",
    "using Base.LinAlg.BLAS.gemv!\n",
    "using Base.LinAlg.LAPACK.potrf!\n",
    "using Base.LinAlg.LAPACK.potrs!\n"
   ]
  },
  {
   "cell_type": "markdown",
   "metadata": {},
   "source": [
    "Cholesky decompostion of $A_{ii}$"
   ]
  },
  {
   "cell_type": "code",
   "execution_count": null,
   "metadata": {
    "collapsed": false
   },
   "outputs": [],
   "source": [
    "potrf!('L', Aii);"
   ]
  },
  {
   "cell_type": "markdown",
   "metadata": {},
   "source": [
    "Computing the matrix $A_{bi}A_{ii}^{-1}$. This is kindy of tricky. Remembering that $(A\\cdot B)^T = A^T\\cdot B^T$, and that the system is symmetric, if we compute $M = A_{ii}^{-1}\\cdot A_{ib}$, then $M^T = \\left(A_{ii}^{-1}\\cdot A_{ib}\\right)^T = A_{bi}\\cdot A_{ii}^{-1}$"
   ]
  },
  {
   "cell_type": "code",
   "execution_count": null,
   "metadata": {
    "collapsed": false
   },
   "outputs": [],
   "source": [
    "M = copy(Aib);\n",
    "potrs!('L', Aii, M);"
   ]
  },
  {
   "cell_type": "markdown",
   "metadata": {},
   "source": [
    "Now we need to compute $A'_{bb} =  A_{bb} - A_{bi}A_{ii}^{-1} A_{ib} = A_{bb} - M^T\\cdot A_{ib}$. BLAS makes it simple:"
   ]
  },
  {
   "cell_type": "code",
   "execution_count": null,
   "metadata": {
    "collapsed": false
   },
   "outputs": [],
   "source": [
    "gemm!('T', 'N', -1.0, M, Aib, 1.0, Abb);"
   ]
  },
  {
   "cell_type": "markdown",
   "metadata": {},
   "source": [
    "Cholesky decomposition of $A'_{bb}$:"
   ]
  },
  {
   "cell_type": "code",
   "execution_count": null,
   "metadata": {
    "collapsed": false
   },
   "outputs": [],
   "source": [
    "potrf!('L', Abb);"
   ]
  },
  {
   "cell_type": "markdown",
   "metadata": {},
   "source": [
    "### Solving for a RHS\n",
    "\n",
    "This is just a test. Let's just create any RHS:"
   ]
  },
  {
   "cell_type": "code",
   "execution_count": null,
   "metadata": {
    "collapsed": false
   },
   "outputs": [],
   "source": [
    "f = [1.0:N;]"
   ]
  },
  {
   "cell_type": "code",
   "execution_count": null,
   "metadata": {
    "collapsed": false
   },
   "outputs": [],
   "source": [
    "fbi = copy(f);"
   ]
  },
  {
   "cell_type": "code",
   "execution_count": null,
   "metadata": {
    "collapsed": false
   },
   "outputs": [],
   "source": [
    "fb = view(fbi, 1:nb)\n",
    "fi = view(fbi, (nb+1):N);"
   ]
  },
  {
   "cell_type": "markdown",
   "metadata": {},
   "source": [
    "Solving for boundary modes. First we need to correct the RHS: $f'_b = f_b - A_{bi}A_{ii}^{-1} f_i$."
   ]
  },
  {
   "cell_type": "code",
   "execution_count": null,
   "metadata": {
    "collapsed": false
   },
   "outputs": [],
   "source": [
    "gemv!('T', -1.0, M, fi, 1.0, fb);"
   ]
  },
  {
   "cell_type": "markdown",
   "metadata": {},
   "source": [
    "Solve the boundary linear system:"
   ]
  },
  {
   "cell_type": "code",
   "execution_count": null,
   "metadata": {
    "collapsed": false
   },
   "outputs": [],
   "source": [
    "potrs!('L', Abb, fb);"
   ]
  },
  {
   "cell_type": "markdown",
   "metadata": {},
   "source": [
    "Variable fb contains $x_b$. Now solve the equation for $x_i$:"
   ]
  },
  {
   "cell_type": "code",
   "execution_count": null,
   "metadata": {
    "collapsed": true
   },
   "outputs": [],
   "source": [
    "potrs!('L', Aii, fi)\n",
    "gemv!('N', -1.0, M, fb, 1.0, fi);"
   ]
  },
  {
   "cell_type": "code",
   "execution_count": null,
   "metadata": {
    "collapsed": false
   },
   "outputs": [],
   "source": [
    "x = copy(fbi)"
   ]
  },
  {
   "cell_type": "markdown",
   "metadata": {},
   "source": [
    "Typical solution:"
   ]
  },
  {
   "cell_type": "code",
   "execution_count": null,
   "metadata": {
    "collapsed": false
   },
   "outputs": [],
   "source": [
    "x0 = A\\f"
   ]
  },
  {
   "cell_type": "code",
   "execution_count": null,
   "metadata": {
    "collapsed": false
   },
   "outputs": [],
   "source": [
    "x0 - x"
   ]
  },
  {
   "cell_type": "markdown",
   "metadata": {
    "collapsed": true
   },
   "source": [
    "# Non symmetric matrices\n",
    "\n",
    "In this case,\n",
    "\n",
    "$$\n",
    "A_{bi}^T \\ne A_{ib}\n",
    "$$\n",
    "\n",
    "## Generating a nonrandom matrix B\n"
   ]
  },
  {
   "cell_type": "code",
   "execution_count": null,
   "metadata": {
    "collapsed": false
   },
   "outputs": [],
   "source": [
    "B = random_matrix(N, false)"
   ]
  },
  {
   "cell_type": "code",
   "execution_count": null,
   "metadata": {
    "collapsed": false
   },
   "outputs": [],
   "source": [
    "Bbb = B[1:nb, 1:nb]\n",
    "Bbi = B[1:nb, (nb+1):N]\n",
    "Bib = B[(nb+1):N, 1:nb]\n",
    "Bii = B[(nb+1):N, (nb+1):N];\n"
   ]
  },
  {
   "cell_type": "code",
   "execution_count": null,
   "metadata": {
    "collapsed": false
   },
   "outputs": [],
   "source": [
    "using Base.LinAlg.LAPACK.getrf!\n",
    "\n",
    "Bii, ipiv, info = getrf!(Bii);"
   ]
  },
  {
   "cell_type": "markdown",
   "metadata": {},
   "source": [
    "We need to calculate the matrix $A_{bi}A_{ii}^{-1}AA_{ib}$. \n",
    "In this case the matrix is not symmetric and therefore we need to calculate\n",
    "the matrix\n",
    "\n",
    "$$\n",
    "M = \\left(A_{bi}A_{ii}^{-1}\\right)^T = \\left(A_{ii}^{-1}\\right)^T A_{bi}^T\n",
    "$$\n"
   ]
  },
  {
   "cell_type": "code",
   "execution_count": null,
   "metadata": {
    "collapsed": false
   },
   "outputs": [],
   "source": [
    "using Base.LinAlg.LAPACK.getrs!\n",
    "\n",
    "M2 = Bbi'\n",
    "\n",
    "getrs!('T', Bii, ipiv, M2)"
   ]
  },
  {
   "cell_type": "markdown",
   "metadata": {},
   "source": [
    "When calculating the RHS, we need to compute $M_b = A_{ii}^{-1}A_{ib} \\ne M^T$. No problem just pre-calculate it and store for further use."
   ]
  },
  {
   "cell_type": "code",
   "execution_count": null,
   "metadata": {
    "collapsed": false
   },
   "outputs": [],
   "source": [
    "M2b = copy(Bib)\n",
    "getrs!('N', Bii, ipiv, M2b);"
   ]
  },
  {
   "cell_type": "code",
   "execution_count": null,
   "metadata": {
    "collapsed": false
   },
   "outputs": [],
   "source": [
    "gemm!('T', 'N', -1.0, M2, Bib, 1.0, Bbb);"
   ]
  },
  {
   "cell_type": "code",
   "execution_count": null,
   "metadata": {
    "collapsed": false
   },
   "outputs": [],
   "source": []
  },
  {
   "cell_type": "code",
   "execution_count": null,
   "metadata": {
    "collapsed": false
   },
   "outputs": [],
   "source": [
    "Bbb, ipiv2, info = getrf!(Bbb)"
   ]
  },
  {
   "cell_type": "markdown",
   "metadata": {},
   "source": [
    "## Solving for a RHS"
   ]
  },
  {
   "cell_type": "code",
   "execution_count": null,
   "metadata": {
    "collapsed": false
   },
   "outputs": [],
   "source": [
    "g = float([1:N;])\n",
    "gbi = copy(g)"
   ]
  },
  {
   "cell_type": "code",
   "execution_count": null,
   "metadata": {
    "collapsed": false
   },
   "outputs": [],
   "source": [
    "gb = view(gbi, 1:nb)\n",
    "gi = view(gbi, (nb+1):N)\n"
   ]
  },
  {
   "cell_type": "code",
   "execution_count": null,
   "metadata": {
    "collapsed": false
   },
   "outputs": [],
   "source": [
    "gemv!('T', -1.0, M2, gi, 1.0, gb);"
   ]
  },
  {
   "cell_type": "code",
   "execution_count": null,
   "metadata": {
    "collapsed": false
   },
   "outputs": [],
   "source": [
    "getrs!('N', Bbb, ipiv2, gb);\n",
    "gb"
   ]
  },
  {
   "cell_type": "code",
   "execution_count": null,
   "metadata": {
    "collapsed": false
   },
   "outputs": [],
   "source": [
    "getrs!('N', Bii, ipiv, gi)\n",
    "gemv!('N', -1.0, M2b, gb, 1.0, gi);"
   ]
  },
  {
   "cell_type": "code",
   "execution_count": null,
   "metadata": {
    "collapsed": false
   },
   "outputs": [],
   "source": [
    "y = copy(gbi)\n",
    "y0 = B\\g\n",
    "\n",
    "hcat(y0, y, y-y0)"
   ]
  },
  {
   "cell_type": "code",
   "execution_count": null,
   "metadata": {
    "collapsed": true
   },
   "outputs": [],
   "source": []
  },
  {
   "cell_type": "code",
   "execution_count": null,
   "metadata": {
    "collapsed": true
   },
   "outputs": [],
   "source": []
  }
 ],
 "metadata": {
  "kernelspec": {
   "display_name": "Julia 0.5.0",
   "language": "julia",
   "name": "julia-0.5"
  },
  "language_info": {
   "file_extension": ".jl",
   "mimetype": "application/julia",
   "name": "julia",
   "version": "0.5.0"
  }
 },
 "nbformat": 4,
 "nbformat_minor": 0
}
