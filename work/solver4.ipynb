{
 "cells": [
  {
   "cell_type": "code",
   "execution_count": null,
   "metadata": {
    "collapsed": false
   },
   "outputs": [],
   "source": [
    "include(\"../src/HPFEM.jl\")"
   ]
  },
  {
   "cell_type": "code",
   "execution_count": null,
   "metadata": {
    "collapsed": false
   },
   "outputs": [],
   "source": [
    "TF = Float64\n",
    "nel = 10\n",
    "nnodes = nel + 1\n",
    "idir = [1]  ### A: Só um lado é Dirichilet o outro é Neumann\n",
    "M = 6\n",
    "Q = M+2\n",
    "b = HPFEM.Lagrange1d(M, TF)\n",
    "quad = HPFEM.QuadType(Q, HPFEM.GLJ, TF)\n",
    "bas = HPFEM.Basis1d(b,quad, TF)\n",
    "#bas = HPFEM.SEM1d(M)\n",
    "#bas = HPFEM.Basis1d(M,Q)\n",
    "lmap = HPFEM.locmap(bas)\n",
    "dof = HPFEM.DofMap1d(lmap, nnodes, idir);\n"
   ]
  },
  {
   "cell_type": "code",
   "execution_count": null,
   "metadata": {
    "collapsed": false
   },
   "outputs": [],
   "source": [
    "k = 2\n",
    "uexact(x) = sin(2π*k*x)\n",
    "rhsfun(x) = sin(2π*k*x) * (1.0 + (2π*k)^2)\n",
    "duexact(x) = 2π*k * cos(2π*k*x)  ### A: Precisamos agora conhecer a derivada (pelo menos no ponto)"
   ]
  },
  {
   "cell_type": "code",
   "execution_count": null,
   "metadata": {
    "collapsed": false
   },
   "outputs": [],
   "source": [
    "a = 1.7\n",
    "b = 6.3\n",
    "nodes = [TF(x) for x in linspace(a, b, nnodes)];"
   ]
  },
  {
   "cell_type": "code",
   "execution_count": null,
   "metadata": {
    "collapsed": false
   },
   "outputs": [],
   "source": [
    "elems = [HPFEM.Element1d(e, nodes[e], nodes[e+1], bas) for e = 1:nel];"
   ]
  },
  {
   "cell_type": "code",
   "execution_count": null,
   "metadata": {
    "collapsed": false
   },
   "outputs": [],
   "source": [
    "solver = HPFEM.CholeskySC(dof, HPFEM.BBMatrix1d, TF);"
   ]
  },
  {
   "cell_type": "code",
   "execution_count": null,
   "metadata": {
    "collapsed": false
   },
   "outputs": [],
   "source": [
    "for e = 1:nel\n",
    "    Ae = zeros(TF, M, M)\n",
    "    HPFEM.add_stiff_matrix!(bas, elems[e], Ae)\n",
    "    HPFEM.add_mass_matrix!(bas, elems[e], Ae)\n",
    "    HPFEM.add_local_matrix(solver, e, Ae)\n",
    "end\n"
   ]
  },
  {
   "cell_type": "code",
   "execution_count": null,
   "metadata": {
    "collapsed": false
   },
   "outputs": [],
   "source": [
    "Fe = zeros(HPFEM.nmodes(lmap), nel)\n",
    "bnd = HPFEM.bndidx(lmap)\n",
    "\n",
    "for e = 1:nel\n",
    "    fe = rhsfun(elems[e].x)\n",
    "    HPFEM.add_rhs!(bas, elems[e], fe, sub(Fe, :, e))\n",
    "end\n",
    "Fe[bnd[2],nel] += bas(one(TF), bnd[2]) * duexact(b) ### A: Adicionar o termo vdu/dx no lado direito!\n",
    "\n",
    "# Apply Dirichilet BCs:\n",
    "Fe[bnd[1],1] = uexact(a);\n"
   ]
  },
  {
   "cell_type": "code",
   "execution_count": null,
   "metadata": {
    "collapsed": false
   },
   "outputs": [],
   "source": [
    "nξ = 101\n",
    "ξ = collect(linspace(-1,1,nξ));\n",
    "ϕ = zeros(nξ, M)\n",
    "for i = 1:M\n",
    "    ϕ[:,i] = bas(ξ, i)\n",
    "end\n",
    "\n",
    "Ue = ϕ * Fe;"
   ]
  },
  {
   "cell_type": "code",
   "execution_count": null,
   "metadata": {
    "collapsed": false
   },
   "outputs": [],
   "source": [
    "using PyPlot\n",
    "maxerr = 0.0\n",
    "for e = 1:nel\n",
    "    el = elems[e]\n",
    "    x = (1-ξ)*el.a/2 + (1+ξ)*el.b/2 \n",
    "    uu = uexact(x)\n",
    "    err = maxabs(uu-Ue[:,e])\n",
    "    if err > maxerr maxerr = err end\n",
    "        \n",
    "    plot(x, Ue[:,e], \"r\", x, uu, \"b\")\n",
    "end\n",
    "maxerr"
   ]
  },
  {
   "cell_type": "code",
   "execution_count": null,
   "metadata": {
    "collapsed": true
   },
   "outputs": [],
   "source": []
  },
  {
   "cell_type": "code",
   "execution_count": null,
   "metadata": {
    "collapsed": true
   },
   "outputs": [],
   "source": []
  },
  {
   "cell_type": "code",
   "execution_count": null,
   "metadata": {
    "collapsed": true
   },
   "outputs": [],
   "source": []
  }
 ],
 "metadata": {
  "kernelspec": {
   "display_name": "Julia 0.4.5",
   "language": "julia",
   "name": "julia-0.4"
  },
  "language_info": {
   "file_extension": ".jl",
   "mimetype": "application/julia",
   "name": "julia",
   "version": "0.4.5"
  }
 },
 "nbformat": 4,
 "nbformat_minor": 0
}
