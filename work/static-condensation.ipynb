{
 "cells": [
  {
   "cell_type": "code",
   "execution_count": null,
   "metadata": {
    "collapsed": false
   },
   "outputs": [],
   "source": [
    "using PyPlot\n",
    "include(\"../src/HPFEM.jl\")\n",
    "H = HPFEM"
   ]
  },
  {
   "cell_type": "code",
   "execution_count": null,
   "metadata": {
    "collapsed": false
   },
   "outputs": [],
   "source": [
    "b = H.Basis1d(5,7);"
   ]
  },
  {
   "cell_type": "code",
   "execution_count": null,
   "metadata": {
    "collapsed": false
   },
   "outputs": [],
   "source": [
    "Nel = 3\n",
    "pts = [linspace(0, 5, Nel+1);]\n",
    "\n",
    "elems = [H.Element1d(1, pts[i], pts[i+1], b) for i in 1:Nel];"
   ]
  },
  {
   "cell_type": "code",
   "execution_count": null,
   "metadata": {
    "collapsed": false
   },
   "outputs": [],
   "source": [
    "dof = H.DofMap1d(H.nmodes(b), Nel+1, []);\n",
    "solver = H.CholeskySC(dof, H.BBSymTri);"
   ]
  },
  {
   "cell_type": "code",
   "execution_count": null,
   "metadata": {
    "collapsed": false
   },
   "outputs": [],
   "source": [
    "ii = H.interior_idx(b)\n",
    "ib = H.bndry_idx(b);"
   ]
  },
  {
   "cell_type": "code",
   "execution_count": null,
   "metadata": {
    "collapsed": false
   },
   "outputs": [],
   "source": [
    "for e = 1:Nel\n",
    "    println(\"======================================\")\n",
    "    println(\"PROCESSING ELEMENT \", )\n",
    "    M = H.mass_matrix(b, elems[e])\n",
    "    Abb = M[ib,ib]\n",
    "    Aii = M[ii,ii]\n",
    "    Abi = M[ib,ii]\n",
    "    println(H.add_local_matrix(solver, e, Abb, Abi, Aii))\n",
    "end"
   ]
  },
  {
   "cell_type": "code",
   "execution_count": null,
   "metadata": {
    "collapsed": false
   },
   "outputs": [],
   "source": [
    "solver.Abb"
   ]
  },
  {
   "cell_type": "code",
   "execution_count": null,
   "metadata": {
    "collapsed": true
   },
   "outputs": [],
   "source": []
  }
 ],
 "metadata": {
  "kernelspec": {
   "display_name": "Julia 0.5.0",
   "language": "julia",
   "name": "julia-0.5"
  },
  "language_info": {
   "file_extension": ".jl",
   "mimetype": "application/julia",
   "name": "julia",
   "version": "0.5.0"
  }
 },
 "nbformat": 4,
 "nbformat_minor": 0
}
